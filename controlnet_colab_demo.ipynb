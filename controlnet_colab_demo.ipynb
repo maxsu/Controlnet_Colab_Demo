{
  "cells": [
    {
      "cell_type": "markdown",
      "metadata": {
        "id": "view-in-github",
        "colab_type": "text"
      },
      "source": [
        "<a href=\"https://colab.research.google.com/github/maxsu/Controlnet_Colab_Demo/blob/main/controlnet_colab_demo.ipynb\" target=\"_parent\"><img src=\"https://colab.research.google.com/assets/colab-badge.svg\" alt=\"Open In Colab\"/></a>"
      ]
    },
    {
      "cell_type": "markdown",
      "source": [
        "#ControlNet"
      ],
      "metadata": {
        "id": "Bf3xeNYHbEPk"
      }
    },
    {
      "cell_type": "code",
      "execution_count": 5,
      "metadata": {
        "id": "Z0Uf4z6JUD4r",
        "colab": {
          "base_uri": "https://localhost:8080/"
        },
        "outputId": "c3ab13c6-cfa0-4be7-cfe4-350fe65a8339"
      },
      "outputs": [
        {
          "output_type": "stream",
          "name": "stdout",
          "text": [
            "env: A2C=aria2c --console-log-level=error -c -x 16 -k 1M -s 16\n",
            "env: MODELS=https://huggingface.co/ckpt/ControlNet/resolve/main\n",
            "env: APP=gradio_scribble2image.py\n",
            "env: MODEL_A=control_sd15_scribble.pth\n",
            "env: MODEL_B=dpt_hybrid-midas-501f0c75.pt\n",
            "Reading package lists... Done\n",
            "Building dependency tree       \n",
            "Reading state information... Done\n",
            "aria2 is already the newest version (1.35.0-1build1).\n",
            "0 upgraded, 0 newly installed, 0 to remove and 19 not upgraded.\n",
            "Cloning into 'ControlNet'...\n",
            "remote: Enumerating objects: 798, done.\u001b[K\n",
            "remote: Counting objects: 100% (441/441), done.\u001b[K\n",
            "remote: Compressing objects: 100% (249/249), done.\u001b[K\n",
            "remote: Total 798 (delta 202), reused 192 (delta 192), pack-reused 357\u001b[K\n",
            "Receiving objects: 100% (798/798), 63.88 MiB | 31.91 MiB/s, done.\n",
            "Resolving deltas: 100% (246/246), done.\n",
            "/content/ControlNet/ControlNet\n",
            "\u001b[0m\n",
            "Download Results:\n",
            "gid   |stat|avg speed  |path/URI\n",
            "======+====+===========+=======================================================\n",
            "e1b903|\u001b[1;32mOK\u001b[0m  |   235MiB/s|models/control_sd15_scribble.pth\n",
            "\n",
            "Status Legend:\n",
            "(OK):download completed.\n",
            "\u001b[0m\n",
            "Download Results:\n",
            "gid   |stat|avg speed  |path/URI\n",
            "======+====+===========+=======================================================\n",
            "746147|\u001b[1;32mOK\u001b[0m  |   220MiB/s|annotator/ckpts/dpt_hybrid-midas-501f0c75.pt\n",
            "\n",
            "Status Legend:\n",
            "(OK):download completed.\n"
          ]
        }
      ],
      "source": [
        "# Config environment\n",
        "%env A2C=aria2c --console-log-level=error -c -x 16 -k 1M -s 16\n",
        "%env REPO=https://github.com/camenduru/ControlNet -b cuda\n",
        "%env MODELS=https://huggingface.co/ckpt/ControlNet/resolve/main\n",
        "%env APP=gradio_scribble2image.py\n",
        "%env MODEL_A=control_sd15_scribble.pth\n",
        "%env MODEL_B=dpt_hybrid-midas-501f0c75.pt\n",
        "\n",
        "# Pull dependencies\n",
        "!sudo apt-get install aria2\n",
        "!git clone $REPO\n",
        "!pip install -q gradio==3.16.2 timm==0.6.12 addict==2.4.0 \\\n",
        "  yapf==0.32.0 pytorch-lightning==1.9.1 einops==0.3.0 \\\n",
        "  open_clip_torch==2.0.2 omegaconf==2.1.1 transformers==4.19.2 \\\n",
        "  --pre xformers triton\n",
        "\n",
        "# Grab Models\n",
        "%cd ControlNet\n",
        "!$A2C $MODELS/$MODEL_A -d models -o $MODEL_A\n",
        "!$A2C $MODELS/$MODEL_B -d annotator/ckpts -o $MODEL_B\n",
        "\n",
        "# Share demo server on Gradio\n",
        "!sed -i \"s/launch(server_name='0.0.0.0'/launch(debug=True, share=True/\" gradio_*.py"
      ]
    },
    {
      "cell_type": "code",
      "execution_count": 7,
      "metadata": {
        "id": "mxvRurrmXc4D",
        "colab": {
          "base_uri": "https://localhost:8080/"
        },
        "outputId": "97256605-9ff3-4e14-c71b-fba3ac609c6e"
      },
      "outputs": [
        {
          "output_type": "stream",
          "name": "stdout",
          "text": [
            "/content/ControlNet\n",
            "Traceback (most recent call last):\n",
            "  File \"gradio_scribble2image.py\", line 1, in <module>\n",
            "    from share import *\n",
            "  File \"/content/ControlNet/share.py\", line 2, in <module>\n",
            "    from cldm.hack import disable_verbosity, enable_sliced_attention\n",
            "  File \"/content/ControlNet/cldm/hack.py\", line 1, in <module>\n",
            "    import torch\n",
            "  File \"/usr/local/lib/python3.8/dist-packages/torch/__init__.py\", line 218, in <module>\n",
            "    from torch._C import *  # noqa: F403\n",
            "RuntimeError: KeyboardInterrupt: <EMPTY MESSAGE>\n"
          ]
        }
      ],
      "source": [
        "%cd /content/ControlNet\n",
        "!python $APP"
      ]
    }
  ],
  "metadata": {
    "accelerator": "GPU",
    "colab": {
      "provenance": [],
      "include_colab_link": true
    },
    "gpuClass": "standard",
    "kernelspec": {
      "display_name": "Python 3",
      "name": "python3"
    },
    "language_info": {
      "name": "python"
    }
  },
  "nbformat": 4,
  "nbformat_minor": 0
}